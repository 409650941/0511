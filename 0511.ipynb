{
  "nbformat": 4,
  "nbformat_minor": 0,
  "metadata": {
    "colab": {
      "name": "0511.ipynb",
      "provenance": [],
      "authorship_tag": "ABX9TyPT5RFMDkSNIRycV2i34O+m",
      "include_colab_link": true
    },
    "kernelspec": {
      "name": "python3",
      "display_name": "Python 3"
    },
    "language_info": {
      "name": "python"
    }
  },
  "cells": [
    {
      "cell_type": "markdown",
      "metadata": {
        "id": "view-in-github",
        "colab_type": "text"
      },
      "source": [
        "<a href=\"https://colab.research.google.com/github/409650941/0511/blob/main/0511.ipynb\" target=\"_parent\"><img src=\"https://colab.research.google.com/assets/colab-badge.svg\" alt=\"Open In Colab\"/></a>"
      ]
    },
    {
      "cell_type": "code",
      "execution_count": 2,
      "metadata": {
        "colab": {
          "base_uri": "https://localhost:8080/"
        },
        "id": "GVRx_JBTg9sT",
        "outputId": "e17a0be4-0122-4751-be97-81e0968def2d"
      },
      "outputs": [
        {
          "output_type": "stream",
          "name": "stdout",
          "text": [
            "請輸入你的體溫38\n",
            "體溫過高!\n"
          ]
        }
      ],
      "source": [
        "temp=float(input('請輸入你的體溫'))\n",
        "if temp>=37.5:\n",
        "    print('體溫過高!')\n",
        "elif temp>=37 and temp < 37.4:\n",
        "    print('體溫略高!')\n",
        "elif temp>=34 and temp < 36.9:\n",
        "    print('體溫正常!')\n",
        "else:\n",
        "    print('體溫異常,請重新量測!')\n",
        "\n",
        "\n"
      ]
    },
    {
      "cell_type": "code",
      "source": [
        "money=int(input('請輸入購物金額'))\n",
        "if (money>=10000):\n",
        "    if (money>=100000):\n",
        "       print('八折',money*0.8,end='元\\n')\n",
        "    elif (money>=50000):\n",
        "       print('八五折',money*0.85,end='元\\n')  \n",
        "    elif (money>=30000):\n",
        "       print('九折',money*0.9,end='元\\n')  \n",
        "    else:\n",
        "       print('九五折',money*0.95,end='元\\n')\n",
        "else:\n",
        "    print('沒打折',money,'元\\n')"
      ],
      "metadata": {
        "colab": {
          "base_uri": "https://localhost:8080/"
        },
        "id": "FuAC3NVmkvgd",
        "outputId": "8d346518-4c31-42c4-8de9-435814f66b62"
      },
      "execution_count": 4,
      "outputs": [
        {
          "output_type": "stream",
          "name": "stdout",
          "text": [
            "請輸入購物金額10000\n",
            "九五折 9500.0元\n"
          ]
        }
      ]
    },
    {
      "cell_type": "code",
      "source": [
        "score=int(input('請輸入成績'))\n",
        "if (score>=90):\n",
        "    print('A')\n",
        "elif (score<=89 and score>=80):\n",
        "    print('B')\n",
        "elif (score<=79 and score>=70):\n",
        "    print('C')\n",
        "elif (score<=69 and score>=60):\n",
        "    print('D')\n",
        "else:\n",
        "    print('E')"
      ],
      "metadata": {
        "colab": {
          "base_uri": "https://localhost:8080/"
        },
        "id": "xvDSjE8woWe_",
        "outputId": "ab30c495-e594-4a1e-f02d-dd834f06a72e"
      },
      "execution_count": 5,
      "outputs": [
        {
          "output_type": "stream",
          "name": "stdout",
          "text": [
            "請輸入成績78\n",
            "C\n"
          ]
        }
      ]
    },
    {
      "cell_type": "code",
      "source": [
        "season=int(input('請輸入季節月份'))\n",
        "if (season==3 or season==4 or season==5):\n",
        "    print(season,'月是春天') \n",
        "elif (season==6 or season==7 or season==8):\n",
        "    print(season,'月是夏天')\n",
        "elif (season==9 or season==10 or season==11):\n",
        "    print(season,'月是秋天')\n",
        "elif (season==1 or season==2 or season==12):   \n",
        "    print(season,'月是冬天')  \n",
        "else:\n",
        "    print('月份不在範圍內!')"
      ],
      "metadata": {
        "colab": {
          "base_uri": "https://localhost:8080/"
        },
        "id": "i8BY0OLkrY_3",
        "outputId": "c8d7e48d-4532-487e-e40a-e31602e4a5fe"
      },
      "execution_count": 7,
      "outputs": [
        {
          "output_type": "stream",
          "name": "stdout",
          "text": [
            "請輸入季節月份4\n",
            "4 月是春天\n"
          ]
        }
      ]
    },
    {
      "cell_type": "code",
      "source": [
        "money=int(input('請輸入今年收入淨額'))\n",
        "if (money>=300000):\n",
        "    if (money>=2000000):\n",
        "       print('付稅金額',money*0.3,end='元\\n')\n",
        "    elif (money>=1000000):\n",
        "       print('付稅金額',money*0.21,end='元\\n')  \n",
        "    elif (money>=60000):\n",
        "       print('付稅金額',money*0.13,end='元\\n')  \n",
        "    else:\n",
        "       print('付稅金額',money*0.06,end='元\\n')\n",
        "else:\n",
        "    print('付稅金額0元')"
      ],
      "metadata": {
        "colab": {
          "base_uri": "https://localhost:8080/"
        },
        "id": "ACQZWgDNuWlC",
        "outputId": "4be40577-f4b8-439d-c779-cf6b6785e9cf"
      },
      "execution_count": 8,
      "outputs": [
        {
          "output_type": "stream",
          "name": "stdout",
          "text": [
            "請輸入今年收入淨額10000\n",
            "付稅金額0元\n"
          ]
        }
      ]
    },
    {
      "cell_type": "code",
      "source": [
        ""
      ],
      "metadata": {
        "id": "m2FdYL4NvrAO"
      },
      "execution_count": null,
      "outputs": []
    }
  ]
}